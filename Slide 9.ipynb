{
 "cells": [
  {
   "cell_type": "code",
   "execution_count": 1,
   "metadata": {},
   "outputs": [],
   "source": [
    "import numpy as np\n",
    "import math"
   ]
  },
  {
   "cell_type": "code",
   "execution_count": 2,
   "metadata": {},
   "outputs": [],
   "source": [
    "a = '21 36 25 18 22'\n",
    "b = '26 38 27 17 26'\n",
    "c = '16 25 22 18 21'\n",
    "d = '28 35 27 20 24'\n",
    "t_records = 20\n",
    "batch = 5\n",
    "t = 4"
   ]
  },
  {
   "cell_type": "code",
   "execution_count": 3,
   "metadata": {},
   "outputs": [],
   "source": [
    "def to_array(a):\n",
    "    val = []\n",
    "    for i in a.split(' '):\n",
    "        val.append(float(i))\n",
    "    return val"
   ]
  },
  {
   "cell_type": "code",
   "execution_count": 4,
   "metadata": {},
   "outputs": [],
   "source": [
    "a = np.array(to_array(a))\n",
    "b = np.array(to_array(b))\n",
    "c = np.array(to_array(c))\n",
    "d = np.array(to_array(d))"
   ]
  },
  {
   "cell_type": "code",
   "execution_count": 5,
   "metadata": {},
   "outputs": [
    {
     "data": {
      "text/plain": [
       "724.7999999999993"
      ]
     },
     "execution_count": 5,
     "metadata": {},
     "output_type": "execute_result"
    }
   ],
   "source": [
    "tss = sum(a ** 2 + b ** 2 + c ** 2 + d ** 2) - (sum(a + b + c + d) ** 2 / t_records)\n",
    "tss"
   ]
  },
  {
   "cell_type": "code",
   "execution_count": 6,
   "metadata": {},
   "outputs": [
    {
     "data": {
      "text/plain": [
       "500.7999999999993"
      ]
     },
     "execution_count": 6,
     "metadata": {},
     "output_type": "execute_result"
    }
   ],
   "source": [
    "t_sum = 0\n",
    "for i in range(batch):\n",
    "    t_sum += (a[i] + b[i] + c[i] + d[i]) ** 2\n",
    "ssb = (t_sum / t) - (sum(a + b + c + d) ** 2 / t_records)\n",
    "ssb"
   ]
  },
  {
   "cell_type": "code",
   "execution_count": 7,
   "metadata": {},
   "outputs": [
    {
     "data": {
      "text/plain": [
       "136.79999999999927"
      ]
     },
     "execution_count": 7,
     "metadata": {},
     "output_type": "execute_result"
    }
   ],
   "source": [
    "sst = ((sum(a) ** 2 + sum(b) ** 2 + sum(c) ** 2 + sum(d) ** 2) / batch) - (sum(a + b + c + d) ** 2 / t_records)\n",
    "sst"
   ]
  },
  {
   "cell_type": "code",
   "execution_count": 8,
   "metadata": {},
   "outputs": [
    {
     "data": {
      "text/plain": [
       "87.20000000000073"
      ]
     },
     "execution_count": 8,
     "metadata": {},
     "output_type": "execute_result"
    }
   ],
   "source": [
    "sse = tss - ssb - sst\n",
    "sse"
   ]
  },
  {
   "cell_type": "code",
   "execution_count": 9,
   "metadata": {},
   "outputs": [
    {
     "data": {
      "text/plain": [
       "45.59999999999976"
      ]
     },
     "execution_count": 9,
     "metadata": {},
     "output_type": "execute_result"
    }
   ],
   "source": [
    "dof_t = t - 1\n",
    "mst = sst / dof_t\n",
    "mst"
   ]
  },
  {
   "cell_type": "code",
   "execution_count": 10,
   "metadata": {},
   "outputs": [
    {
     "data": {
      "text/plain": [
       "125.19999999999982"
      ]
     },
     "execution_count": 10,
     "metadata": {},
     "output_type": "execute_result"
    }
   ],
   "source": [
    "dof_b = batch - 1\n",
    "msb = ssb / dof_b\n",
    "msb"
   ]
  },
  {
   "cell_type": "code",
   "execution_count": 11,
   "metadata": {},
   "outputs": [
    {
     "data": {
      "text/plain": [
       "7.266666666666727"
      ]
     },
     "execution_count": 11,
     "metadata": {},
     "output_type": "execute_result"
    }
   ],
   "source": [
    "mse = sse / (dof_t * dof_b)\n",
    "mse"
   ]
  },
  {
   "cell_type": "code",
   "execution_count": 12,
   "metadata": {},
   "outputs": [
    {
     "data": {
      "text/plain": [
       "6.2752293577980796"
      ]
     },
     "execution_count": 12,
     "metadata": {},
     "output_type": "execute_result"
    }
   ],
   "source": [
    "F = mst / mse\n",
    "F"
   ]
  },
  {
   "cell_type": "code",
   "execution_count": 13,
   "metadata": {},
   "outputs": [],
   "source": [
    "alpha = 0.05"
   ]
  },
  {
   "cell_type": "code",
   "execution_count": 14,
   "metadata": {},
   "outputs": [
    {
     "data": {
      "text/plain": [
       "3.490294819497605"
      ]
     },
     "execution_count": 14,
     "metadata": {},
     "output_type": "execute_result"
    }
   ],
   "source": [
    "from scipy.stats import f\n",
    "f.ppf(1 - alpha, dof_t, dof_t * dof_b)"
   ]
  },
  {
   "cell_type": "markdown",
   "metadata": {},
   "source": [
    "#### If F > f reject null hypothesis"
   ]
  },
  {
   "cell_type": "code",
   "execution_count": 15,
   "metadata": {},
   "outputs": [
    {
     "data": {
      "text/plain": [
       "3.714646911137759"
      ]
     },
     "execution_count": 15,
     "metadata": {},
     "output_type": "execute_result"
    }
   ],
   "source": [
    "from scipy.stats import t\n",
    "lsd = t.ppf(1 - (alpha/2), dof_b * dof_t) * math.sqrt(mse * (2/batch)) # calculate lsd for each i,j if the lengths of each sample is different\n",
    "lsd"
   ]
  },
  {
   "cell_type": "markdown",
   "metadata": {},
   "source": [
    "#### If below value less than lsd we fail to reject null else we reject null"
   ]
  },
  {
   "cell_type": "code",
   "execution_count": 16,
   "metadata": {},
   "outputs": [
    {
     "name": "stdout",
     "output_type": "stream",
     "text": [
      "2.400000000000002\n",
      "4.0\n",
      "2.400000000000002\n",
      "6.400000000000002\n",
      "0.0\n",
      "6.400000000000002\n"
     ]
    }
   ],
   "source": [
    "print(abs(np.mean(a) - np.mean(b)))\n",
    "print(abs(np.mean(a) - np.mean(c)))\n",
    "print(abs(np.mean(a) - np.mean(d)))\n",
    "print(abs(np.mean(b) - np.mean(c)))\n",
    "print(abs(np.mean(b) - np.mean(d)))\n",
    "print(abs(np.mean(c) - np.mean(d)))"
   ]
  },
  {
   "cell_type": "code",
   "execution_count": null,
   "metadata": {},
   "outputs": [],
   "source": []
  }
 ],
 "metadata": {
  "interpreter": {
   "hash": "5a03e6978a913b76a01264f69485476c06bb2afb04825931e6a903524ca57e27"
  },
  "kernelspec": {
   "display_name": "Python 3.8.3 ('base')",
   "language": "python",
   "name": "python3"
  },
  "language_info": {
   "codemirror_mode": {
    "name": "ipython",
    "version": 3
   },
   "file_extension": ".py",
   "mimetype": "text/x-python",
   "name": "python",
   "nbconvert_exporter": "python",
   "pygments_lexer": "ipython3",
   "version": "3.8.3"
  },
  "orig_nbformat": 4
 },
 "nbformat": 4,
 "nbformat_minor": 2
}
