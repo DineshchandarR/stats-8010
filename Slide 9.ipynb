{
 "cells": [
  {
   "cell_type": "code",
   "execution_count": 1,
   "metadata": {},
   "outputs": [],
   "source": [
    "import numpy as np\n",
    "import math"
   ]
  },
  {
   "cell_type": "code",
   "execution_count": 2,
   "metadata": {},
   "outputs": [],
   "source": [
    "a = '6.33 4.8 2.93 3.65 6.34 4.48'\n",
    "b = '5.63 5.28 4.1 3.58 7.13 3.9'\n",
    "c = '5.96 5.09 4.86 4.55 7.85 5.44'\n",
    "d = '5.5 6.87 6.47 5.72 8.29 5.18'\n",
    "t_records = 24\n",
    "batch = 6\n",
    "t = 4"
   ]
  },
  {
   "cell_type": "code",
   "execution_count": 3,
   "metadata": {},
   "outputs": [],
   "source": [
    "def to_array(a):\n",
    "    val = []\n",
    "    for i in a.split(' '):\n",
    "        val.append(float(i))\n",
    "    return val"
   ]
  },
  {
   "cell_type": "code",
   "execution_count": 4,
   "metadata": {},
   "outputs": [],
   "source": [
    "a = np.array(to_array(a))\n",
    "b = np.array(to_array(b))\n",
    "c = np.array(to_array(c))\n",
    "d = np.array(to_array(d))"
   ]
  },
  {
   "cell_type": "code",
   "execution_count": 5,
   "metadata": {},
   "outputs": [
    {
     "data": {
      "text/plain": [
       "41.672962499999926"
      ]
     },
     "execution_count": 5,
     "metadata": {},
     "output_type": "execute_result"
    }
   ],
   "source": [
    "tss = sum(a ** 2 + b ** 2 + c ** 2 + d ** 2) - (sum(a + b + c + d) ** 2 / t_records)\n",
    "tss"
   ]
  },
  {
   "cell_type": "code",
   "execution_count": 6,
   "metadata": {},
   "outputs": [
    {
     "data": {
      "text/plain": [
       "25.42888749999986"
      ]
     },
     "execution_count": 6,
     "metadata": {},
     "output_type": "execute_result"
    }
   ],
   "source": [
    "t_sum = 0\n",
    "for i in range(batch):\n",
    "    t_sum += (a[i] + b[i] + c[i] + d[i]) ** 2\n",
    "ssb = (t_sum / t) - (sum(a + b + c + d) ** 2 / t_records)\n",
    "ssb"
   ]
  },
  {
   "cell_type": "code",
   "execution_count": 7,
   "metadata": {},
   "outputs": [
    {
     "data": {
      "text/plain": [
       "9.366245833333096"
      ]
     },
     "execution_count": 7,
     "metadata": {},
     "output_type": "execute_result"
    }
   ],
   "source": [
    "sst = ((sum(a) ** 2 + sum(b) ** 2 + sum(c) ** 2 + sum(d) ** 2) / batch) - (sum(a + b + c + d) ** 2 / t_records)\n",
    "sst"
   ]
  },
  {
   "cell_type": "code",
   "execution_count": 8,
   "metadata": {},
   "outputs": [
    {
     "data": {
      "text/plain": [
       "6.87782916666697"
      ]
     },
     "execution_count": 8,
     "metadata": {},
     "output_type": "execute_result"
    }
   ],
   "source": [
    "sse = tss - ssb - sst\n",
    "sse"
   ]
  },
  {
   "cell_type": "code",
   "execution_count": 9,
   "metadata": {},
   "outputs": [
    {
     "data": {
      "text/plain": [
       "3.1220819444443655"
      ]
     },
     "execution_count": 9,
     "metadata": {},
     "output_type": "execute_result"
    }
   ],
   "source": [
    "dof_t = t - 1\n",
    "mst = sst / dof_t\n",
    "mst"
   ]
  },
  {
   "cell_type": "code",
   "execution_count": 10,
   "metadata": {},
   "outputs": [
    {
     "data": {
      "text/plain": [
       "5.085777499999972"
      ]
     },
     "execution_count": 10,
     "metadata": {},
     "output_type": "execute_result"
    }
   ],
   "source": [
    "dof_b = batch - 1\n",
    "msb = ssb / dof_b\n",
    "msb"
   ]
  },
  {
   "cell_type": "code",
   "execution_count": 11,
   "metadata": {},
   "outputs": [
    {
     "data": {
      "text/plain": [
       "0.4585219444444647"
      ]
     },
     "execution_count": 11,
     "metadata": {},
     "output_type": "execute_result"
    }
   ],
   "source": [
    "mse = sse / (dof_t * dof_b)\n",
    "mse"
   ]
  },
  {
   "cell_type": "code",
   "execution_count": 12,
   "metadata": {},
   "outputs": [
    {
     "data": {
      "text/plain": [
       "6.809013139440933"
      ]
     },
     "execution_count": 12,
     "metadata": {},
     "output_type": "execute_result"
    }
   ],
   "source": [
    "F = mst / mse\n",
    "F"
   ]
  },
  {
   "cell_type": "code",
   "execution_count": 13,
   "metadata": {},
   "outputs": [],
   "source": [
    "alpha = 0.05"
   ]
  },
  {
   "cell_type": "code",
   "execution_count": 14,
   "metadata": {},
   "outputs": [
    {
     "data": {
      "text/plain": [
       "3.2873821046365115"
      ]
     },
     "execution_count": 14,
     "metadata": {},
     "output_type": "execute_result"
    }
   ],
   "source": [
    "from scipy.stats import f\n",
    "f.ppf(1 - alpha, dof_t, dof_t * dof_b)"
   ]
  },
  {
   "cell_type": "markdown",
   "metadata": {},
   "source": [
    "#### If F > f reject null hypothesis"
   ]
  },
  {
   "cell_type": "code",
   "execution_count": 15,
   "metadata": {},
   "outputs": [
    {
     "data": {
      "text/plain": [
       "0.8332867804820808"
      ]
     },
     "execution_count": 15,
     "metadata": {},
     "output_type": "execute_result"
    }
   ],
   "source": [
    "from scipy.stats import t\n",
    "lsd = t.ppf(1 - (alpha/2), dof_b * dof_t) * math.sqrt(mse * (2/batch)) # calculate lsd for each i,j if the lengths of each sample is different\n",
    "lsd"
   ]
  },
  {
   "cell_type": "markdown",
   "metadata": {},
   "source": [
    "#### If below value less than lsd we fail to reject null else we reject null"
   ]
  },
  {
   "cell_type": "code",
   "execution_count": 16,
   "metadata": {},
   "outputs": [
    {
     "name": "stdout",
     "output_type": "stream",
     "text": [
      "0.18166666666666664\n",
      "0.8700000000000001\n",
      "1.5833333333333321\n",
      "0.6883333333333335\n",
      "1.4016666666666655\n",
      "0.713333333333332\n"
     ]
    }
   ],
   "source": [
    "print(abs(np.mean(a) - np.mean(b)))\n",
    "print(abs(np.mean(a) - np.mean(c)))\n",
    "print(abs(np.mean(a) - np.mean(d)))\n",
    "print(abs(np.mean(b) - np.mean(c)))\n",
    "print(abs(np.mean(b) - np.mean(d)))\n",
    "print(abs(np.mean(c) - np.mean(d)))"
   ]
  },
  {
   "cell_type": "code",
   "execution_count": null,
   "metadata": {},
   "outputs": [],
   "source": []
  }
 ],
 "metadata": {
  "interpreter": {
   "hash": "5a03e6978a913b76a01264f69485476c06bb2afb04825931e6a903524ca57e27"
  },
  "kernelspec": {
   "display_name": "Python 3.8.3 ('base')",
   "language": "python",
   "name": "python3"
  },
  "language_info": {
   "codemirror_mode": {
    "name": "ipython",
    "version": 3
   },
   "file_extension": ".py",
   "mimetype": "text/x-python",
   "name": "python",
   "nbconvert_exporter": "python",
   "pygments_lexer": "ipython3",
   "version": "3.9.7"
  },
  "orig_nbformat": 4
 },
 "nbformat": 4,
 "nbformat_minor": 2
}
