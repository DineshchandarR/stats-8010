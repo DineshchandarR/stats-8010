{
 "cells": [
  {
   "cell_type": "markdown",
   "id": "1051a1f2-6597-43ab-95c1-3a81a9e3906c",
   "metadata": {},
   "source": [
    "## Comparing more than 2 population means"
   ]
  },
  {
   "cell_type": "code",
   "execution_count": 52,
   "id": "cb79ae12-14bf-4faf-8574-2f8159e43dcc",
   "metadata": {},
   "outputs": [],
   "source": [
    "import pandas as pd\n",
    "import numpy as np"
   ]
  },
  {
   "cell_type": "markdown",
   "id": "a196d2c7-22b1-4a41-aff1-7c719fb9fc54",
   "metadata": {},
   "source": [
    "#### Replace columns with columns from other population\n",
    "- Compare the ssw and ssb values"
   ]
  },
  {
   "cell_type": "code",
   "execution_count": 53,
   "id": "e6e559b9-b6a5-4223-bac6-1d05ca06a09e",
   "metadata": {},
   "outputs": [],
   "source": [
    "t = 3 # no_of_samples \n",
    "t_records = 15\n",
    "a = [3, 4, 6, 8, 9]\n",
    "b = [5, 7, 10, 13, 15]\n",
    "c = [11, 13, 16, 17, 18]"
   ]
  },
  {
   "cell_type": "code",
   "execution_count": 54,
   "id": "b17d9542-ec0b-47f6-bd1d-f65174d84d52",
   "metadata": {},
   "outputs": [
    {
     "name": "stdout",
     "output_type": "stream",
     "text": [
      "6.0\n",
      "10.0\n",
      "15.0\n"
     ]
    },
    {
     "data": {
      "text/plain": [
       "10.333333333333334"
      ]
     },
     "execution_count": 54,
     "metadata": {},
     "output_type": "execute_result"
    }
   ],
   "source": [
    "m1=np.mean(a)\n",
    "print(m1)\n",
    "m2=np.mean(b)\n",
    "print(m2)\n",
    "m3=np.mean(c)\n",
    "print(m3)\n",
    "m=(m1+m2+m3)/t\n",
    "m"
   ]
  },
  {
   "cell_type": "code",
   "execution_count": 55,
   "id": "cd7f2957-4c84-47ae-9c06-fcb450cfd574",
   "metadata": {},
   "outputs": [
    {
     "name": "stdout",
     "output_type": "stream",
     "text": [
      "203.33333333333331\n",
      "101.66666666666666\n"
     ]
    }
   ],
   "source": [
    "S2b = ((len(a) * (m1-m)**2) + (len(b) * (m2-m)**2) + (len(c) * (m3-m)**2)) / (t - 1)\n",
    "SSb = S2b * (t-1)\n",
    "print(SSb)\n",
    "print(S2b) # Same as MSB"
   ]
  },
  {
   "cell_type": "code",
   "execution_count": 56,
   "id": "7a319785-1b47-4ddc-8015-98ec5132e53d",
   "metadata": {},
   "outputs": [
    {
     "name": "stdout",
     "output_type": "stream",
     "text": [
      "128.0\n",
      "10.666666666666666\n"
     ]
    }
   ],
   "source": [
    "dof = (t_records) - t\n",
    "err_a = list(a-m1)\n",
    "err_b = list(b-m2)\n",
    "err_c = list(c-m3)\n",
    "err = err_a+err_b+err_c\n",
    "ssw=[]\n",
    "for i in err:\n",
    "    ssw.append(i**2)\n",
    "    \n",
    "S2w = np.sum(ssw) / dof\n",
    "SSw = S2w * dof\n",
    "\n",
    "print(SSw)\n",
    "print(S2w) #same as MSW"
   ]
  },
  {
   "cell_type": "code",
   "execution_count": 57,
   "id": "ed4bcfc6-76a0-4e45-bdfd-6c95306bc0f5",
   "metadata": {},
   "outputs": [
    {
     "data": {
      "text/plain": [
       "9.53125"
      ]
     },
     "execution_count": 57,
     "metadata": {},
     "output_type": "execute_result"
    }
   ],
   "source": [
    "f = S2b / S2w\n",
    "f"
   ]
  },
  {
   "cell_type": "code",
   "execution_count": 58,
   "id": "f78f7e1c-163a-4cb9-8398-bac3c3bbeb21",
   "metadata": {},
   "outputs": [],
   "source": [
    "ddf = (t_records) - t\n",
    "ndf = t - 1\n",
    "alpha = 0.05"
   ]
  },
  {
   "cell_type": "code",
   "execution_count": 59,
   "id": "a6d80aa3-6626-4662-a691-941cd7106f8b",
   "metadata": {},
   "outputs": [
    {
     "data": {
      "text/plain": [
       "3.8852938346523933"
      ]
     },
     "execution_count": 59,
     "metadata": {},
     "output_type": "execute_result"
    }
   ],
   "source": [
    "from scipy.stats import f\n",
    "import scipy\n",
    "\n",
    "scipy.stats.f.ppf(1 - alpha, ndf, ddf)"
   ]
  },
  {
   "cell_type": "markdown",
   "id": "060807c0-ed0b-4757-b832-3d485bbb3689",
   "metadata": {},
   "source": [
    "#### Example 2"
   ]
  },
  {
   "cell_type": "code",
   "execution_count": 60,
   "id": "6c5e7eb7-693e-4833-a148-295e6ee5c0be",
   "metadata": {},
   "outputs": [],
   "source": [
    "t = 4 # no_of_samples \n",
    "t_records = 10\n",
    "a = [11, 9]\n",
    "b = [7, 8, 9]\n",
    "c = [6, 5, 7]\n",
    "d = [5, 3]"
   ]
  },
  {
   "cell_type": "code",
   "execution_count": 61,
   "id": "05cef720-a149-4e9f-ac04-70097a64bcd0",
   "metadata": {},
   "outputs": [
    {
     "name": "stdout",
     "output_type": "stream",
     "text": [
      "10.0\n",
      "8.0\n",
      "6.0\n",
      "4.0\n"
     ]
    },
    {
     "data": {
      "text/plain": [
       "7.0"
      ]
     },
     "execution_count": 61,
     "metadata": {},
     "output_type": "execute_result"
    }
   ],
   "source": [
    "m1=np.mean(a)\n",
    "print(m1)\n",
    "m2=np.mean(b)\n",
    "print(m2)\n",
    "m3=np.mean(c)\n",
    "print(m3)\n",
    "m4=np.mean(d)\n",
    "print(m4)\n",
    "m=(m1+m2+m3+m4)/t\n",
    "m"
   ]
  },
  {
   "cell_type": "code",
   "execution_count": 62,
   "id": "96e507a4-d565-4506-b3f3-fae586aa493f",
   "metadata": {},
   "outputs": [
    {
     "name": "stdout",
     "output_type": "stream",
     "text": [
      "42.0\n",
      "14.0\n"
     ]
    }
   ],
   "source": [
    "S2b = ((len(a) * (m1-m)**2) + (len(b) * (m2-m)**2) + (len(c) * (m3-m)**2) + (len(d) * (m4-m)**2)) / (t - 1)\n",
    "SSb = S2b * (t-1)\n",
    "print(SSb)\n",
    "print(S2b) # Same as MSB"
   ]
  },
  {
   "cell_type": "code",
   "execution_count": 65,
   "id": "b6985ecc-5899-4b35-9142-4d9784a0ec20",
   "metadata": {},
   "outputs": [
    {
     "name": "stdout",
     "output_type": "stream",
     "text": [
      "8.0\n",
      "1.3333333333333333\n"
     ]
    }
   ],
   "source": [
    "dof = (t_records) - t\n",
    "err_a = list(a - m1)\n",
    "err_b = list(b - m2)\n",
    "err_c = list(c - m3)\n",
    "err_d = list(d - m4)\n",
    "err = err_a + err_b + err_c + err_d\n",
    "ssw = []\n",
    "for i in err:\n",
    "    ssw.append(i**2)\n",
    "\n",
    "S2w = np.sum(ssw) / dof\n",
    "SSw = S2w * dof\n",
    "\n",
    "print(SSw)\n",
    "print(S2w) #same as MSW"
   ]
  },
  {
   "cell_type": "code",
   "execution_count": 67,
   "id": "93b1eb77-f3b6-46be-9f6f-686a59261f1a",
   "metadata": {},
   "outputs": [
    {
     "data": {
      "text/plain": [
       "10.5"
      ]
     },
     "execution_count": 67,
     "metadata": {},
     "output_type": "execute_result"
    }
   ],
   "source": [
    "f = S2b / S2w\n",
    "f"
   ]
  },
  {
   "cell_type": "code",
   "execution_count": null,
   "id": "db9925b8-2642-462c-b959-1fdd2b176d07",
   "metadata": {},
   "outputs": [],
   "source": []
  }
 ],
 "metadata": {
  "kernelspec": {
   "display_name": "Python 3 (ipykernel)",
   "language": "python",
   "name": "python3"
  },
  "language_info": {
   "codemirror_mode": {
    "name": "ipython",
    "version": 3
   },
   "file_extension": ".py",
   "mimetype": "text/x-python",
   "name": "python",
   "nbconvert_exporter": "python",
   "pygments_lexer": "ipython3",
   "version": "3.9.7"
  }
 },
 "nbformat": 4,
 "nbformat_minor": 5
}
