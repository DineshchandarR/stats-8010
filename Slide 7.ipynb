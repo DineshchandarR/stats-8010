{
 "cells": [
  {
   "cell_type": "markdown",
   "id": "fcce3b80-d699-4bb7-b369-e5e4575bfaac",
   "metadata": {},
   "source": [
    "## Multiple Comparisons"
   ]
  },
  {
   "cell_type": "markdown",
   "id": "206a4d7f-eeac-45cb-86a8-5fd5ac42ae96",
   "metadata": {},
   "source": [
    "## Fisher's Test"
   ]
  },
  {
   "cell_type": "code",
   "execution_count": 20,
   "id": "6cf18a35-b23d-4132-88b9-ea9aef57fc5d",
   "metadata": {},
   "outputs": [],
   "source": [
    "import pandas as pd\n",
    "import numpy as np\n",
    "import math"
   ]
  },
  {
   "cell_type": "code",
   "execution_count": 21,
   "id": "57d73325-5720-46f3-b3f6-84f8d51581c8",
   "metadata": {},
   "outputs": [],
   "source": [
    "t = 3 # no_of_samples \n",
    "t_records = 15\n",
    "alpha = 0.05\n",
    "a = [0.35, 0.40, 0.58, 0.50, 0.47]\n",
    "n1 = len(a)\n",
    "b = [0.65, 0.70, 0.90, 0.84, 0.79]\n",
    "n2 = len(b)\n",
    "c = [0.60, 0.80, 0.75, 0.73, 0.66]\n",
    "n3 = len(c)"
   ]
  },
  {
   "cell_type": "code",
   "execution_count": 22,
   "id": "d9ee6e7b-5304-467d-8377-d74434892240",
   "metadata": {},
   "outputs": [
    {
     "name": "stdout",
     "output_type": "stream",
     "text": [
      "0.45999999999999996\n",
      "0.776\n",
      "0.708\n"
     ]
    },
    {
     "data": {
      "text/plain": [
       "0.648"
      ]
     },
     "execution_count": 22,
     "metadata": {},
     "output_type": "execute_result"
    }
   ],
   "source": [
    "m1=np.mean(a)\n",
    "print(m1)\n",
    "m2=np.mean(b)\n",
    "print(m2)\n",
    "m3=np.mean(c)\n",
    "print(m3)\n",
    "m=(m1+m2+m3)/t\n",
    "m"
   ]
  },
  {
   "cell_type": "code",
   "execution_count": 23,
   "id": "d255bb9b-7cff-47f7-aa3f-01bf29d29bb6",
   "metadata": {},
   "outputs": [
    {
     "name": "stdout",
     "output_type": "stream",
     "text": [
      "0.0978\n",
      "0.00815\n"
     ]
    }
   ],
   "source": [
    "dof = (t_records) - t\n",
    "err_a = list(a-m1)\n",
    "err_b = list(b-m2)\n",
    "err_c = list(c-m3)\n",
    "err = err_a+err_b+err_c\n",
    "ssw=[]\n",
    "for i in err:\n",
    "    ssw.append(i**2)\n",
    "\n",
    "S2w = np.sum(ssw) / dof\n",
    "SSw = S2w * dof\n",
    "\n",
    "print(SSw)\n",
    "print(S2w) #same as MSW"
   ]
  },
  {
   "cell_type": "code",
   "execution_count": 24,
   "id": "65e0219e-c57f-44c0-9d7b-71f0f3db23f9",
   "metadata": {},
   "outputs": [
    {
     "data": {
      "text/plain": [
       "2.1788128296634177"
      ]
     },
     "execution_count": 24,
     "metadata": {},
     "output_type": "execute_result"
    }
   ],
   "source": [
    "from scipy.stats import t\n",
    "t.ppf(1 - (alpha/2), dof)"
   ]
  },
  {
   "cell_type": "code",
   "execution_count": 25,
   "id": "85b90c05-3f05-4218-ab37-5d9803df7f21",
   "metadata": {},
   "outputs": [],
   "source": [
    "lsd = t.ppf(1 - (alpha/2), dof) * math.sqrt((S2w) * ((1/n1) + (1/n2)))\n",
    "# calculate lsd for each i,j if the lengths of each sample is different"
   ]
  },
  {
   "cell_type": "markdown",
   "id": "dceb87b9-d0c2-474b-9e2f-88dfb324fffc",
   "metadata": {},
   "source": [
    "#### If lsd greater, fail to reject null. Otherwise vice versa. "
   ]
  },
  {
   "cell_type": "code",
   "execution_count": 27,
   "id": "986969ea-a55d-4e69-82bd-d4326c9528d9",
   "metadata": {},
   "outputs": [
    {
     "name": "stdout",
     "output_type": "stream",
     "text": [
      "0.31600000000000006 0.12440238997005347\n",
      "0.06800000000000006 0.12440238997005347\n",
      "0.248 0.12440238997005347\n"
     ]
    }
   ],
   "source": [
    "print(abs(m1 - m2), lsd)\n",
    "print(abs(m2 - m3), lsd)\n",
    "print(abs(m1 - m3), lsd)"
   ]
  },
  {
   "cell_type": "markdown",
   "id": "b9065148-2d08-4329-a2e6-9b8284a9739f",
   "metadata": {},
   "source": [
    "## Tukey's Test"
   ]
  },
  {
   "cell_type": "code",
   "execution_count": 28,
   "id": "86cd445c-bdd7-4998-9827-98039bd94bbf",
   "metadata": {},
   "outputs": [],
   "source": [
    "import pandas as pd\n",
    "import numpy as np\n",
    "from scipy.stats import f_oneway\n",
    "from statsmodels.stats.multicomp import pairwise_tukeyhsd"
   ]
  },
  {
   "cell_type": "code",
   "execution_count": 29,
   "id": "e7b2c01d-0b41-4b81-9f35-ea729b6abbdb",
   "metadata": {},
   "outputs": [
    {
     "data": {
      "text/plain": [
       "F_onewayResult(statistic=16.971779141104275, pvalue=0.00031749706087003446)"
      ]
     },
     "execution_count": 29,
     "metadata": {},
     "output_type": "execute_result"
    }
   ],
   "source": [
    "f_oneway(a, b, c)"
   ]
  },
  {
   "cell_type": "code",
   "execution_count": 46,
   "id": "66cab55f-a210-47b3-b37b-f8be29ff35ba",
   "metadata": {},
   "outputs": [],
   "source": [
    "df = pd.DataFrame()\n",
    "df['score'] = a + b + c\n",
    "df['group'] = ('a ' * 5 + 'b ' * 5 + 'c ' * 5).split()"
   ]
  },
  {
   "cell_type": "code",
   "execution_count": 48,
   "id": "9590dd90-7644-4e82-bc56-3ef105e001ad",
   "metadata": {},
   "outputs": [],
   "source": [
    "tukey = pairwise_tukeyhsd(endog=df['score'],\n",
    "                          groups=df['group'],\n",
    "                          alpha=0.05)"
   ]
  },
  {
   "cell_type": "code",
   "execution_count": 50,
   "id": "61d23241-bcef-44f4-a0ed-1e0d2e4baf1a",
   "metadata": {},
   "outputs": [
    {
     "name": "stdout",
     "output_type": "stream",
     "text": [
      "Multiple Comparison of Means - Tukey HSD, FWER=0.05\n",
      "===================================================\n",
      "group1 group2 meandiff p-adj   lower  upper  reject\n",
      "---------------------------------------------------\n",
      "     a      b    0.316  0.001  0.1637 0.4683   True\n",
      "     a      c    0.248 0.0025  0.0957 0.4003   True\n",
      "     b      c   -0.068 0.4818 -0.2203 0.0843  False\n",
      "---------------------------------------------------\n"
     ]
    }
   ],
   "source": [
    "print(tukey)"
   ]
  },
  {
   "cell_type": "code",
   "execution_count": null,
   "id": "8579f488-a575-4808-9dc3-2e2134590eb2",
   "metadata": {},
   "outputs": [],
   "source": []
  }
 ],
 "metadata": {
  "kernelspec": {
   "display_name": "Python 3",
   "language": "python",
   "name": "python3"
  },
  "language_info": {
   "codemirror_mode": {
    "name": "ipython",
    "version": 3
   },
   "file_extension": ".py",
   "mimetype": "text/x-python",
   "name": "python",
   "nbconvert_exporter": "python",
   "pygments_lexer": "ipython3",
   "version": "3.8.3"
  }
 },
 "nbformat": 4,
 "nbformat_minor": 5
}
