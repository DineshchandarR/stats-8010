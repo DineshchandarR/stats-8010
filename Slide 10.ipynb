{
 "cells": [
  {
   "cell_type": "markdown",
   "metadata": {},
   "source": [
    "## Linear Regression"
   ]
  },
  {
   "cell_type": "code",
   "execution_count": 1,
   "metadata": {},
   "outputs": [],
   "source": [
    "import numpy as np\n",
    "import statistics as stat\n",
    "import math"
   ]
  },
  {
   "cell_type": "code",
   "execution_count": 2,
   "metadata": {},
   "outputs": [],
   "source": [
    "a = '69 56.5 65.3 62.8 63.5 57.3 59.8 62.5 62.5 59 51.3 64.3 56.3 66.5 72 64.8 67 57.5 66.5'\n",
    "b = '112.5 84 98 102.5 102.5 83 84.5 112.5 84 99.5 50.5 90 77 112 150 128 133 85 112'"
   ]
  },
  {
   "cell_type": "code",
   "execution_count": 3,
   "metadata": {},
   "outputs": [],
   "source": [
    "def to_array(a):\n",
    "    val = []\n",
    "    for i in a.split(' '):\n",
    "        val.append(float(i))\n",
    "    return val"
   ]
  },
  {
   "cell_type": "code",
   "execution_count": 4,
   "metadata": {},
   "outputs": [
    {
     "name": "stdout",
     "output_type": "stream",
     "text": [
      "N1:19 and N2:19\n"
     ]
    }
   ],
   "source": [
    "a = np.array(to_array(a))\n",
    "n1 = len(a)\n",
    "b = np.array(to_array(b))\n",
    "n2 = len(b)\n",
    "print (f'N1:{n1} and N2:{n2}')"
   ]
  },
  {
   "cell_type": "code",
   "execution_count": 6,
   "metadata": {},
   "outputs": [
    {
     "name": "stdout",
     "output_type": "stream",
     "text": [
      "sxx:473.16421052631586, sxy:1844.8815789473883, syy:9335.736842105252\n"
     ]
    }
   ],
   "source": [
    "sxx = sum((a - stat.mean(a)) ** 2)\n",
    "sxy = sum(a * b) - (sum(a) * sum(b) / n1)\n",
    "syy = sum(b ** 2) - (sum(b) ** 2 / n2)\n",
    "print(f\"sxx:{sxx}, sxy:{sxy}, syy:{syy}\")"
   ]
  },
  {
   "cell_type": "code",
   "execution_count": 7,
   "metadata": {},
   "outputs": [
    {
     "data": {
      "text/plain": [
       "0.7705068427159913"
      ]
     },
     "execution_count": 7,
     "metadata": {},
     "output_type": "execute_result"
    }
   ],
   "source": [
    "r = sxy / math.sqrt(sxx * syy)\n",
    "r2 = r ** 2\n",
    "r2"
   ]
  },
  {
   "cell_type": "code",
   "execution_count": 8,
   "metadata": {},
   "outputs": [
    {
     "data": {
      "text/plain": [
       "3.8990302687839953"
      ]
     },
     "execution_count": 8,
     "metadata": {},
     "output_type": "execute_result"
    }
   ],
   "source": [
    "B1 = sxy / sxx\n",
    "B1"
   ]
  },
  {
   "cell_type": "code",
   "execution_count": 9,
   "metadata": {},
   "outputs": [
    {
     "data": {
      "text/plain": [
       "-143.026918439356"
      ]
     },
     "execution_count": 9,
     "metadata": {},
     "output_type": "execute_result"
    }
   ],
   "source": [
    "B0 = stat.mean(b) - (stat.mean(a) * B1)\n",
    "B0"
   ]
  },
  {
   "cell_type": "markdown",
   "metadata": {},
   "source": [
    "### wt(Ht) = B0 + B1(Ht)"
   ]
  },
  {
   "cell_type": "code",
   "execution_count": 10,
   "metadata": {},
   "outputs": [
    {
     "data": {
      "text/plain": [
       "126.02868961572794"
      ]
     },
     "execution_count": 10,
     "metadata": {},
     "output_type": "execute_result"
    }
   ],
   "source": [
    "s2e = ((1 - r2) * syy) / (n1 - 2)\n",
    "s2e"
   ]
  },
  {
   "cell_type": "markdown",
   "metadata": {},
   "source": [
    "### To test hypotheses about b₀\n",
    "\n",
    "Upper – tailed       | Lower – tailed        | Two – tailed\n",
    "-----------------    |--------------------   | ------------------\n",
    "Ho  :  b0 = b0,0     | Ho  :  b0 = b0,0      | Ho  : b0  = b0,0   \n",
    "Ha  :  b0 > b0,0     | Ha  :  b0 < b0,0      | Ha  : b0 ≠ b0,0      \n",
    "\n",
    "\n",
    "Test statistic :\n",
    "\n",
    "𝑡 = 𝛽̂0−𝛽0,0/ (𝑠𝜀* math.sqrt(Σ𝑥𝑖**2/(𝑛𝑆xx)) (under Ho, is t with n-2 df)\n"
   ]
  },
  {
   "cell_type": "code",
   "execution_count": 12,
   "metadata": {},
   "outputs": [
    {
     "data": {
      "text/plain": [
       "7.554884692332599"
      ]
     },
     "execution_count": 12,
     "metadata": {},
     "output_type": "execute_result"
    }
   ],
   "source": [
    "t1 = math.sqrt(s2e) / math.sqrt(sxx)\n",
    "tobs = B1 / t1\n",
    "tobs"
   ]
  },
  {
   "cell_type": "code",
   "execution_count": 13,
   "metadata": {},
   "outputs": [],
   "source": [
    "alpha = 0.05\n",
    "df = n1 - 1"
   ]
  },
  {
   "cell_type": "code",
   "execution_count": 14,
   "metadata": {},
   "outputs": [
    {
     "data": {
      "text/plain": [
       "2.10092204024096"
      ]
     },
     "execution_count": 14,
     "metadata": {},
     "output_type": "execute_result"
    }
   ],
   "source": [
    "from scipy.stats import t\n",
    "t.ppf(1 - (alpha/2), df)"
   ]
  },
  {
   "cell_type": "markdown",
   "metadata": {},
   "source": [
    "### Confidence Intervals for b0\n",
    "A 100x(1-alpha)% CI for b0 is\n",
    "\n",
    "𝛽̂0±(𝑡𝛼/2,𝑛−2)*𝑠𝛽̂0 , where 𝑠𝛽̂0=𝑠𝜀(math.sqrt(Σ𝑥𝑖^2/𝑛𝑆xx))"
   ]
  },
  {
   "cell_type": "code",
   "execution_count": 27,
   "metadata": {},
   "outputs": [
    {
     "name": "stdout",
     "output_type": "stream",
     "text": [
      "sB0: 140.68168193497178 LCL: -428.34259361951206 and HCL: 142.28875674080007\n"
     ]
    }
   ],
   "source": [
    "sB0 = math.sqrt(s2e) * (math.sqrt(sum(a**2)/sxx))\n",
    "\n",
    "LCL_B0 = B0 - (t.ppf(1 - (alpha/2), ((n1+n2)-2)) * sB0)\n",
    "HCL_B0 = B0 + (t.ppf(1 - (alpha/2), ((n1+n2)-2)) * sB0)\n",
    "\n",
    "print(f'sB0: {sB0} LCL: {LCL_B0} and HCL: {HCL_B0}')"
   ]
  },
  {
   "cell_type": "markdown",
   "metadata": {},
   "source": [
    "### Confidence Intervals for E[Y | X = xo]\n",
    "\n",
    "𝑦̂0±(𝑡𝛼/2,𝑛−2)𝑠𝜀*(math.sqrt(1/𝑛+((𝑥0−𝑥̅)**2/sxx)) , where 𝑦̂0=𝛽̂0+(𝛽̂1*𝑥0)"
   ]
  },
  {
   "cell_type": "code",
   "execution_count": 28,
   "metadata": {},
   "outputs": [
    {
     "name": "stdout",
     "output_type": "stream",
     "text": [
      "x0: 67 ,  y0:118.20810956917171, LCL:111.05927378359199, HCL:125.35694535475143\n"
     ]
    }
   ],
   "source": [
    "x0 = 67 # will be provided in the question, x0 = CI for mean at a value (x0)\n",
    "y0 = B0 + (B1*x0)\n",
    "LCL = y0 - (t.ppf(1 - (alpha/2), ((n1+n2)-2))* math.sqrt(s2e) *(math.sqrt( (1 / n1) + ((x0 - stat.mean(a) )**2 / sxx))))\n",
    "HCL = y0 + (t.ppf(1 - (alpha/2), ((n1+n2)-2))* math.sqrt(s2e) *(math.sqrt( (1 / n1) + ((x0 - stat.mean(a) )**2 / sxx))))\n",
    "\n",
    "print(f'x0: {x0} ,  y0:{y0}, LCL:{LCL}, HCL:{HCL}')"
   ]
  },
  {
   "cell_type": "code",
   "execution_count": null,
   "metadata": {},
   "outputs": [],
   "source": []
  }
 ],
 "metadata": {
  "interpreter": {
   "hash": "5a03e6978a913b76a01264f69485476c06bb2afb04825931e6a903524ca57e27"
  },
  "kernelspec": {
   "display_name": "Python 3.8.3 ('base')",
   "language": "python",
   "name": "python3"
  },
  "language_info": {
   "codemirror_mode": {
    "name": "ipython",
    "version": 3
   },
   "file_extension": ".py",
   "mimetype": "text/x-python",
   "name": "python",
   "nbconvert_exporter": "python",
   "pygments_lexer": "ipython3",
   "version": "3.9.7"
  },
  "orig_nbformat": 4
 },
 "nbformat": 4,
 "nbformat_minor": 2
}
